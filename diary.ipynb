{
  "nbformat": 4,
  "nbformat_minor": 0,
  "metadata": {
    "colab": {
      "name": "diary",
      "provenance": [],
      "collapsed_sections": [],
      "include_colab_link": true
    },
    "kernelspec": {
      "name": "python3",
      "display_name": "Python 3"
    },
    "accelerator": "GPU"
  },
  "cells": [
    {
      "cell_type": "markdown",
      "metadata": {
        "id": "view-in-github",
        "colab_type": "text"
      },
      "source": [
        "<a href=\"https://colab.research.google.com/github/rittermi/computationalmedia/blob/main/diary.ipynb\" target=\"_parent\"><img src=\"https://colab.research.google.com/assets/colab-badge.svg\" alt=\"Open In Colab\"/></a>"
      ]
    },
    {
      "cell_type": "markdown",
      "metadata": {
        "id": "H7LoMj4GA4n_"
      },
      "source": [
        "#  Train a GPT-2 Text-Generating Model w/ GPU For Free \n",
        "\n",
        "by [Max Woolf](http://minimaxir.com)\n",
        "\n",
        "*Last updated: November 10th, 2019*\n",
        "\n",
        "Retrain an advanced text generating neural network on any text dataset **for free on a GPU using Collaboratory** using `gpt-2-simple`!\n",
        "\n",
        "For more about `gpt-2-simple`, you can visit [this GitHub repository](https://github.com/minimaxir/gpt-2-simple). You can also read my [blog post](https://minimaxir.com/2019/09/howto-gpt2/) for more information how to use this notebook!\n",
        "\n",
        "\n",
        "To get started:\n",
        "\n",
        "1. Copy this notebook to your Google Drive to keep it and save your changes. (File -> Save a Copy in Drive)\n",
        "2. Make sure you're running the notebook in Google Chrome.\n",
        "3. Run the cells below:\n"
      ]
    },
    {
      "cell_type": "code",
      "metadata": {
        "id": "KBkpRgBCBS2_",
        "colab": {
          "base_uri": "https://localhost:8080/"
        },
        "outputId": "bfd1e79a-1b60-441b-c6ee-43b733824844"
      },
      "source": [
        "%tensorflow_version 1.x\n",
        "!pip install -q gpt-2-simple\n",
        "import gpt_2_simple as gpt2\n",
        "from datetime import datetime\n",
        "from google.colab import files"
      ],
      "execution_count": 1,
      "outputs": [
        {
          "output_type": "stream",
          "text": [
            "TensorFlow 1.x selected.\n",
            "  Building wheel for gpt-2-simple (setup.py) ... \u001b[?25l\u001b[?25hdone\n",
            "WARNING:tensorflow:\n",
            "The TensorFlow contrib module will not be included in TensorFlow 2.0.\n",
            "For more information, please see:\n",
            "  * https://github.com/tensorflow/community/blob/master/rfcs/20180907-contrib-sunset.md\n",
            "  * https://github.com/tensorflow/addons\n",
            "  * https://github.com/tensorflow/io (for I/O related ops)\n",
            "If you depend on functionality not listed there, please file an issue.\n",
            "\n"
          ],
          "name": "stdout"
        }
      ]
    },
    {
      "cell_type": "markdown",
      "metadata": {
        "id": "Bj2IJLHP3KwE"
      },
      "source": [
        "## GPU\n",
        "\n",
        "Colaboratory uses either a Nvidia T4 GPU or an Nvidia K80 GPU. The T4 is slightly faster than the old K80 for training GPT-2, and has more memory allowing you to train the larger GPT-2 models and generate more text.\n",
        "\n",
        "You can verify which GPU is active by running the cell below."
      ]
    },
    {
      "cell_type": "code",
      "metadata": {
        "id": "sUmTooTW3osf",
        "colab": {
          "base_uri": "https://localhost:8080/"
        },
        "outputId": "aa6a0f4e-fe6b-4cc1-b330-064792864478"
      },
      "source": [
        "!nvidia-smi"
      ],
      "execution_count": 2,
      "outputs": [
        {
          "output_type": "stream",
          "text": [
            "Wed Feb  3 02:16:53 2021       \n",
            "+-----------------------------------------------------------------------------+\n",
            "| NVIDIA-SMI 460.39       Driver Version: 418.67       CUDA Version: 10.1     |\n",
            "|-------------------------------+----------------------+----------------------+\n",
            "| GPU  Name        Persistence-M| Bus-Id        Disp.A | Volatile Uncorr. ECC |\n",
            "| Fan  Temp  Perf  Pwr:Usage/Cap|         Memory-Usage | GPU-Util  Compute M. |\n",
            "|                               |                      |               MIG M. |\n",
            "|===============================+======================+======================|\n",
            "|   0  Tesla T4            Off  | 00000000:00:04.0 Off |                    0 |\n",
            "| N/A   33C    P8     9W /  70W |      0MiB / 15079MiB |      0%      Default |\n",
            "|                               |                      |                 ERR! |\n",
            "+-------------------------------+----------------------+----------------------+\n",
            "                                                                               \n",
            "+-----------------------------------------------------------------------------+\n",
            "| Processes:                                                                  |\n",
            "|  GPU   GI   CI        PID   Type   Process name                  GPU Memory |\n",
            "|        ID   ID                                                   Usage      |\n",
            "|=============================================================================|\n",
            "|  No running processes found                                                 |\n",
            "+-----------------------------------------------------------------------------+\n"
          ],
          "name": "stdout"
        }
      ]
    },
    {
      "cell_type": "markdown",
      "metadata": {
        "id": "0wXB05bPDYxS"
      },
      "source": [
        "## Downloading GPT-2\n",
        "\n",
        "If you're retraining a model on new text, you need to download the GPT-2 model first. \n",
        "\n",
        "There are three released sizes of GPT-2:\n",
        "\n",
        "* `124M` (default): the \"small\" model, 500MB on disk.\n",
        "* `355M`: the \"medium\" model, 1.5GB on disk.\n",
        "* `774M`: the \"large\" model, cannot currently be finetuned with Colaboratory but can be used to generate text from the pretrained model (see later in Notebook)\n",
        "* `1558M`: the \"extra large\", true model. Will not work if a K80 GPU is attached to the notebook. (like `774M`, it cannot be finetuned).\n",
        "\n",
        "Larger models have more knowledge, but take longer to finetune and longer to generate text. You can specify which base model to use by changing `model_name` in the cells below.\n",
        "\n",
        "The next cell downloads it from Google Cloud Storage and saves it in the Colaboratory VM at `/models/<model_name>`.\n",
        "\n",
        "This model isn't permanently saved in the Colaboratory VM; you'll have to redownload it if you want to retrain it at a later time."
      ]
    },
    {
      "cell_type": "code",
      "metadata": {
        "id": "P8wSlgXoDPCR",
        "colab": {
          "base_uri": "https://localhost:8080/"
        },
        "outputId": "8b7c4018-f0e4-4294-a25e-3b7c0391bca0"
      },
      "source": [
        "gpt2.download_gpt2(model_name=\"124M\")"
      ],
      "execution_count": 3,
      "outputs": [
        {
          "output_type": "stream",
          "text": [
            "Fetching checkpoint: 1.05Mit [00:00, 304Mit/s]                                                      \n",
            "Fetching encoder.json: 1.05Mit [00:00, 119Mit/s]                                                    \n",
            "Fetching hparams.json: 1.05Mit [00:00, 717Mit/s]                                                    \n",
            "Fetching model.ckpt.data-00000-of-00001: 498Mit [00:02, 197Mit/s]\n",
            "Fetching model.ckpt.index: 1.05Mit [00:00, 254Mit/s]                                                \n",
            "Fetching model.ckpt.meta: 1.05Mit [00:00, 156Mit/s]                                                 \n",
            "Fetching vocab.bpe: 1.05Mit [00:00, 140Mit/s]                                                       \n"
          ],
          "name": "stderr"
        }
      ]
    },
    {
      "cell_type": "markdown",
      "metadata": {
        "id": "N8KXuKWzQSsN"
      },
      "source": [
        "## Mounting Google Drive\n",
        "\n",
        "The best way to get input text to-be-trained into the Colaboratory VM, and to get the trained model *out* of Colaboratory, is to route it through Google Drive *first*.\n",
        "\n",
        "Running this cell (which will only work in Colaboratory) will mount your personal Google Drive in the VM, which later cells can use to get data in/out. (it will ask for an auth code; that auth is not saved anywhere)"
      ]
    },
    {
      "cell_type": "code",
      "metadata": {
        "id": "puq4iC6vUAHc",
        "colab": {
          "base_uri": "https://localhost:8080/"
        },
        "outputId": "fb48dbfe-6d89-4c82-817c-460bc3ab229f"
      },
      "source": [
        "gpt2.mount_gdrive()"
      ],
      "execution_count": 4,
      "outputs": [
        {
          "output_type": "stream",
          "text": [
            "Mounted at /content/drive\n"
          ],
          "name": "stdout"
        }
      ]
    },
    {
      "cell_type": "markdown",
      "metadata": {
        "id": "BT__brhBCvJu"
      },
      "source": [
        "## Uploading a Text File to be Trained to Colaboratory\n",
        "\n",
        "In the Colaboratory Notebook sidebar on the left of the screen, select *Files*. From there you can upload files:\n",
        "\n",
        "![alt text](https://i.imgur.com/TGcZT4h.png)\n",
        "\n",
        "Upload **any smaller text file**  (<10 MB) and update the file name in the cell below, then run the cell."
      ]
    },
    {
      "cell_type": "code",
      "metadata": {
        "id": "6OFnPCLADfll"
      },
      "source": [
        "file_name = \"diary.txt\""
      ],
      "execution_count": 5,
      "outputs": []
    },
    {
      "cell_type": "markdown",
      "metadata": {
        "id": "HeeSKtNWUedE"
      },
      "source": [
        "If your text file is larger than 10MB, it is recommended to upload that file to Google Drive first, then copy that file from Google Drive to the Colaboratory VM."
      ]
    },
    {
      "cell_type": "code",
      "metadata": {
        "id": "-Z6okFD8VKtS"
      },
      "source": [
        "gpt2.copy_file_from_gdrive(file_name)"
      ],
      "execution_count": 6,
      "outputs": []
    },
    {
      "cell_type": "markdown",
      "metadata": {
        "id": "LdpZQXknFNY3"
      },
      "source": [
        "## Finetune GPT-2\n",
        "\n",
        "The next cell will start the actual finetuning of GPT-2. It creates a persistent TensorFlow session which stores the training config, then runs the training for the specified number of `steps`. (to have the finetuning run indefinitely, set `steps = -1`)\n",
        "\n",
        "The model checkpoints will be saved in `/checkpoint/run1` by default. The checkpoints are saved every 500 steps (can be changed) and when the cell is stopped.\n",
        "\n",
        "The training might time out after 4ish hours; make sure you end training and save the results so you don't lose them!\n",
        "\n",
        "**IMPORTANT NOTE:** If you want to rerun this cell, **restart the VM first** (Runtime -> Restart Runtime). You will need to rerun imports but not recopy files.\n",
        "\n",
        "Other optional-but-helpful parameters for `gpt2.finetune`:\n",
        "\n",
        "\n",
        "*  **`restore_from`**: Set to `fresh` to start training from the base GPT-2, or set to `latest` to restart training from an existing checkpoint.\n",
        "* **`sample_every`**: Number of steps to print example output\n",
        "* **`print_every`**: Number of steps to print training progress.\n",
        "* **`learning_rate`**:  Learning rate for the training. (default `1e-4`, can lower to `1e-5` if you have <1MB input data)\n",
        "*  **`run_name`**: subfolder within `checkpoint` to save the model. This is useful if you want to work with multiple models (will also need to specify  `run_name` when loading the model)\n",
        "* **`overwrite`**: Set to `True` if you want to continue finetuning an existing model (w/ `restore_from='latest'`) without creating duplicate copies. "
      ]
    },
    {
      "cell_type": "code",
      "metadata": {
        "id": "aeXshJM-Cuaf",
        "colab": {
          "base_uri": "https://localhost:8080/"
        },
        "outputId": "391a0dc1-b819-4f51-ddbd-0558b0170111"
      },
      "source": [
        "sess = gpt2.start_tf_sess()\n",
        "\n",
        "gpt2.finetune(sess,\n",
        "              dataset=file_name,\n",
        "              model_name='124M',\n",
        "              steps=1000,\n",
        "              restore_from='fresh',\n",
        "              run_name='run1',\n",
        "              print_every=10,\n",
        "              sample_every=200,\n",
        "              save_every=500\n",
        "              )"
      ],
      "execution_count": 7,
      "outputs": [
        {
          "output_type": "stream",
          "text": [
            "WARNING:tensorflow:From /usr/local/lib/python3.6/dist-packages/gpt_2_simple/src/sample.py:17: where (from tensorflow.python.ops.array_ops) is deprecated and will be removed in a future version.\n",
            "Instructions for updating:\n",
            "Use tf.where in 2.0, which has the same broadcast rule as np.where\n",
            "Loading checkpoint models/124M/model.ckpt\n",
            "INFO:tensorflow:Restoring parameters from models/124M/model.ckpt\n"
          ],
          "name": "stdout"
        },
        {
          "output_type": "stream",
          "text": [
            "100%|██████████| 1/1 [00:00<00:00,  5.76it/s]"
          ],
          "name": "stderr"
        },
        {
          "output_type": "stream",
          "text": [
            "Loading dataset...\n",
            "dataset has 20926 tokens\n",
            "Training...\n"
          ],
          "name": "stdout"
        },
        {
          "output_type": "stream",
          "text": [
            "\n"
          ],
          "name": "stderr"
        },
        {
          "output_type": "stream",
          "text": [
            "[10 | 27.99] loss=3.63 avg=3.63\n",
            "[20 | 49.29] loss=3.25 avg=3.44\n",
            "[30 | 70.80] loss=2.59 avg=3.15\n",
            "[40 | 92.52] loss=1.75 avg=2.80\n",
            "[50 | 114.39] loss=1.76 avg=2.59\n",
            "[60 | 136.41] loss=1.06 avg=2.33\n",
            "[70 | 158.60] loss=0.61 avg=2.07\n",
            "[80 | 180.94] loss=0.35 avg=1.85\n",
            "[90 | 203.43] loss=0.21 avg=1.66\n",
            "[100 | 225.91] loss=0.16 avg=1.50\n",
            "[110 | 248.53] loss=0.11 avg=1.37\n",
            "[120 | 271.17] loss=0.07 avg=1.26\n",
            "[130 | 293.87] loss=0.12 avg=1.16\n",
            "[140 | 316.58] loss=0.06 avg=1.08\n",
            "[150 | 339.34] loss=0.06 avg=1.01\n",
            "[160 | 362.10] loss=0.05 avg=0.94\n",
            "[170 | 384.86] loss=0.05 avg=0.88\n",
            "[180 | 407.68] loss=0.05 avg=0.83\n",
            "[190 | 430.54] loss=0.05 avg=0.79\n",
            "[200 | 453.45] loss=0.06 avg=0.75\n",
            "======== SAMPLE 1 ========\n",
            " and all--perhaps a little spoil'd t'other day, by a\n",
            "little snow. Last hutt's leg was somewhat mended off last Thursday, but the healing\n",
            "feathers are still very young, & much need be done. The poor thing did not\n",
            "make the first attempt, & then she again made them improve themselves\n",
            "& grow old together. Mr. Hunt's[17] piece on knee injuries is near the\n",
            "end of this story.\n",
            "\n",
            "\n",
            "Wednesday.--I visited yesterday P.M. with my aunt at Mr Waldron's. This\n",
            "afternoon I am going with my aunt to visit Mrs Salisbury who is Dr\n",
            "Sewall's granddaughter, she is willing she may be your aunt'\n",
            "Aunt Harry's granddaughter. I am glad you are Betty Phillips. I am\n",
            "sorry I have put the matter over so early. I will dutifully attend you p.m.\n",
            "\n",
            "\n",
            "Thursday.--I visited yesterday P.M. with my aunt at Mrs Waldow's. This\n",
            "afternoon I am going with my aunt to visit Mrs Salisbury who is Dr\n",
            "Sewall's granddaughter. I am glad you are Betty Phillips. I am\n",
            "sorry I have put the matter over so early. I will dutifully\n",
            "attend you p.m.\n",
            "\n",
            "\n",
            "Monday noon Feb. as usual I am very glad I remember. I had\n",
            "the pleasure of drinking tea with aunt Sundayown when I\n",
            "was at Portsmouth. As I went down I call'd at Mrs Whitwell's where I\n",
            "worked. Unkle Ned[18] ask'd me if I had heard from him, &\n",
            "he said he was going in just as I was going. I told him I had, & he\n",
            "said he would answer whenever I called. I told him I had the\n",
            "pleasure of hearing about you, & he said he would be glad to hear that. I believe\n",
            "he said I would tell my friends about it. I believe if I spoke my\n",
            "life to a man my words would be heard, but if I did\n",
            "speak my life to a woman I would be goly not to let her in on\n",
            "the deal. He was right. I said what I said, told him my\n",
            "business and he would answer whenever I called. Grace S. still has\n",
            "birthday blue surblis. I had a beautiful mama chalais yesterday\n",
            "(November 27) with my mamma, the wisest of my friends, Miss Jenny Edwards, Miss\n",
            "Betsey Kelso, Miss Soley & Miss Polly Vans[19]  (New Jersy Street)  (Op.  (closest entry for  (somewhat) offbeat)\n",
            "\"I am sorry I have put the matter aside so early, but I believe I has\n",
            "got the matter (obviously) unkle Ned over for your pleasure. I am glad you\n",
            "havebelieve me when I tell my friends I am pretty well (or at least\n",
            "pretty well them'd they were they head and neck) & they ask'd I tell 'em.\n",
            "\"Unkle Ned, what is your name do'd folk say when they ask you to tell\n",
            "them? They ask'd \"Wiseman.\" I tell 'em you'--they ask'd \"You say'd 'Wiseman.'\"\n",
            "\"Why then, do they ask'd \"Wiseman?\" \"Because the Spirit of\n",
            "God will bring about some things your design will be to be able to\n",
            "them,--(a roof, for instance) & their(a) houses &c. &c. They answer'd \"Because the Spirit of\n",
            "God will bring about some things your design will be to be able to\n",
            "them,--(a roof, for instance) & their(a) houses &c. They answer'd therefore, put 'em\n",
            "together as an orniment and dedicate 'em to him. He was / when he was\n",
            "called unto heaven, & now he is before the Father. Amen.--Wiseman is our Baptism\n",
            "et al. This is an orniment for London. Wines.co.uk.\n",
            "\n",
            "Colin Paglian:\n",
            "\n",
            "  [ Ballroom noise – Callahan takes a seat]\n",
            "\n",
            "Here lies buried Rock, this is where Jesus was baptiz'd\n",
            "before the world: there is a pretty looking Bethsaida in\n",
            "the distance. Unkle Ned is up next, he is saterdently wait'd for\n",
            "call.\n",
            "\n",
            "========\n",
            "Colin\n",
            "\n",
            "I want to hear whether you think this introduction to Beauregard or\n",
            "the History of Mr Hand Exhibit a true deal of conversation, as\n",
            "I was about to tell you, when Mr Turner[20] call'd me to visit him in\n",
            "Marshfield Street. I have been carefull not to repeat too much of his text\n",
            "(such as are to be\n",
            "\n",
            "[210 | 487.34] loss=0.04 avg=0.71\n",
            "[220 | 510.17] loss=0.05 avg=0.68\n",
            "[230 | 533.04] loss=0.05 avg=0.65\n",
            "[240 | 555.93] loss=0.06 avg=0.62\n",
            "[250 | 578.83] loss=0.04 avg=0.59\n",
            "[260 | 601.76] loss=0.05 avg=0.57\n",
            "[270 | 624.73] loss=0.05 avg=0.55\n",
            "[280 | 647.69] loss=0.04 avg=0.53\n",
            "[290 | 670.61] loss=0.05 avg=0.51\n",
            "[300 | 693.52] loss=0.06 avg=0.49\n",
            "[310 | 716.44] loss=0.04 avg=0.48\n",
            "[320 | 739.37] loss=0.04 avg=0.46\n",
            "[330 | 762.28] loss=0.03 avg=0.44\n",
            "[340 | 785.17] loss=0.04 avg=0.43\n",
            "[350 | 808.08] loss=0.04 avg=0.42\n",
            "[360 | 830.99] loss=0.04 avg=0.40\n",
            "[370 | 853.93] loss=0.04 avg=0.39\n",
            "[380 | 876.83] loss=0.02 avg=0.38\n",
            "[390 | 899.76] loss=0.03 avg=0.37\n",
            "[400 | 922.68] loss=0.04 avg=0.36\n",
            "======== SAMPLE 1 ========\n",
            " By Mr Fielding. I shall die\n",
            "today.\n",
            "\n",
            "\n",
            "Feb. 12th.--We made the visit refer'd to above. The company was old Mrs\n",
            "Salisbury,[60] Mrs Hill, (Mrs Salisbury's sister she was Miss Hannah\n",
            "Sewall & is married to young Mr James Hill that us'd to live in this\n",
            "house) Miss Sally Hill, Miss Polly Belcher Lyde, Miss Caty Sewall, My\n",
            "Aunt & myself. Yesterday afternoon I visited Miss Polly Deming, Miss\n",
            "Sally Belcher Lyde, Giveo Castro, Nancy Greene & the\n",
            "Unkle Joshua Todd at Mrs Green's. The old guard were very\n",
            "comfortable there. Old Bill Greene was one of the sightseers. Yesterday\n",
            "he was so up to the challenge that I was not able to\n",
            "reach him. I heard your mingle, & so I sent an invitation to Miss\n",
            "Deming to observe me yoursyntax at my lecture hall this\n",
            "thursday. Miss Soley & I went up into Mr Soley's chaise. Miss\n",
            "Soley & I got into Mr Soley's chaise & were very comfortable. I saw\n",
            "Miss Sally Hill, Miss Polly Deming, & Nancy Rowles. Mr Bacon\n",
            "and his lady & family got into the rear of the chaise. We din'd & spent the\n",
            "evening in the common.\n",
            "\n",
            "\n",
            "Feb. 13th.--We made the visit refer'd to above. The company was old Mrs\n",
            "Salisbury,[61] Mrs Hill, Miss Soley, & Mrs Lyde. Mrs Soley, &\n",
            "madame Deming, were in the chaise. Mr Bacon, Mr Sheaf, & Mrs Deming were\n",
            "present. We had a very agreeable evening from 5 to 10 o'clock. For\n",
            "variety we woo'd a widow, hunted the whistle, threaded the needle, &\n",
            "while the company was collecting, we diverted ourselves with playing of\n",
            "pawns, no rudeness Mamma I assure you. Aunt Deming desires you would\n",
            "perticulary observe, that the elderly part of the company were\n",
            "spectators only, they mix'd not in either of the above describ'd\n",
            "scenes.\n",
            "\n",
            "I was dress'd in my yellow coat, black bib & apron, black feathers on my\n",
            "head, my past comb, & all my past[62] garnet marquesett[63] & jet pins,\n",
            "together with my silver plume--my loket, rings, black collar round my\n",
            "neck, black mitts & 2 or 3 yards of blue ribbin, (black & blue is high\n",
            "tast) striped tucker and ruffels (not my best) & my silk shoes\n",
            "compleated my dress.\n",
            "\n",
            "\n",
            "Feb. 14th.--Yesterday I had an invitation to celebrate Miss Caty's\n",
            "birth-day with her. It was fairly easy. I had gone to\n",
            "deliver it to my aunt at Mrs Rogers's. Aunt Suky said she would not have\n",
            "had the pleasure of congratulating Aunt Deming on a good birthday.\n",
            "She knew nothing of it, but said I was a very good\n",
            "girl at dancing. Aunt Suky was not amused with my puzzeling &\n",
            "marlement, & said she would be very glad if I did as well as any of\n",
            "them. I think of aunt as I do brother. And I don't wonder, that aunt\n",
            "won't let me stay up too long without. It is a strange friendship when you\n",
            "say you are a very good girl. I mean, strange, strange indeed. I suppose\n",
            "she will not let me stay up too long. It is a strange friendship.\n",
            "\n",
            "\n",
            "Feb. 16th.--We made the visit refer'd to above. The company was old Mrs\n",
            "Salisbury,[64] Mrs Hill, Miss Soley, & myself, as we called our visit\n",
            "today. The company was very old enough to have a chaise, a hatt of hay,\n",
            "a chair, a yard comb, a chip &c. of hay, a little singing hat, & all\n",
            "cap that off our adventures in sudbury street. We had a\n",
            "boat load with us, it was very well. Aunt told us the boat was\n",
            "load gaurd & gaurd would be brought to Boston for adoption. (The baby)\n",
            "hasn't got a father yet. It seems somebody had broke the bank with\n",
            "their bids. Aunt told them the money would be better than anything they\n",
            "had received from a neighbor's pocket. (The baby)\n",
            "hasn't got a mother yet. It seems somebody had broke the\n",
            "bank with their bids. Aunt told them the money would be as good as any somebody\n",
            "had got--perhaps even a neighbor's pocket. (The\n",
            "baby) Hasn't got a mother yet. It seems somebody had broke the\n",
            "bank with their bids. Aunt told them the money would\n",
            "\n",
            "[410 | 955.57] loss=0.03 avg=0.35\n",
            "[420 | 978.44] loss=0.04 avg=0.34\n",
            "[430 | 1001.32] loss=0.02 avg=0.33\n",
            "[440 | 1024.22] loss=0.04 avg=0.32\n",
            "[450 | 1047.11] loss=0.03 avg=0.32\n",
            "[460 | 1070.05] loss=0.03 avg=0.31\n",
            "[470 | 1092.96] loss=0.02 avg=0.30\n",
            "[480 | 1115.89] loss=0.04 avg=0.29\n",
            "[490 | 1138.85] loss=0.02 avg=0.29\n",
            "[500 | 1161.80] loss=0.02 avg=0.28\n",
            "Saving checkpoint/run1/model-500\n",
            "[510 | 1187.31] loss=0.03 avg=0.27\n",
            "[520 | 1210.23] loss=0.03 avg=0.27\n",
            "[530 | 1233.11] loss=0.02 avg=0.26\n",
            "[540 | 1255.98] loss=0.03 avg=0.26\n",
            "[550 | 1278.82] loss=0.02 avg=0.25\n",
            "[560 | 1301.65] loss=0.02 avg=0.25\n",
            "[570 | 1324.48] loss=0.03 avg=0.24\n",
            "[580 | 1347.40] loss=0.03 avg=0.24\n",
            "[590 | 1370.35] loss=0.03 avg=0.23\n",
            "[600 | 1393.31] loss=0.02 avg=0.23\n",
            "======== SAMPLE 1 ========\n",
            " which was\n",
            "compleated         Miss Winslow[18]\n",
            "        Miss Ives[19]\n",
            "         Miss Attwood\n",
            "           Miss Glover\n",
            "          Miss Draper\n",
            "           Miss McCarthy\n",
            "           Miss Winslow[20]\n",
            "            Miss Coffin\n",
            "            Miss Scolley[21]\n",
            "           Miss Bella Coffin[22]\n",
            "           Miss Draper\n",
            "            Miss Cregur (usually with a\n",
            "dozen or more)\n",
            "           Miss Lyall draymin\n",
            "           Miss Glover\n",
            "            Miss Quinsy[23]\n",
            "           Miss Glover\n",
            "            Miss Draper\n",
            "            Miss Quinsy[24]\n",
            "\n",
            "Gulliver of Fairfell[25]\n",
            "The body\n",
            "of\n",
            "        \n",
            "\n",
            "Aunt & myself trimming\n",
            "          Miss Sally\n",
            "          \n",
            "  Miss Quinsy[25]\n",
            "\n",
            "The soul of\n",
            "        \n",
            "  Miss Glover\n",
            "         \n",
            "  Miss Draper\n",
            "         \n",
            "  Miss Kicker\n",
            "\n",
            "Gulliver of the Buttermilk Trail\n",
            "\n",
            "Forcible\n",
            "         \n",
            "    Miss Coffin\n",
            "\n",
            "        \n",
            "\n",
            "  Miss Scolley[23]\n",
            "\n",
            "Abandoned\n",
            "         \n",
            "     \n",
            "\n",
            "Miss Bella\n",
            "         \n",
            "     \n",
            "\n",
            "Miss Henry\n",
            "\n",
            "        \n",
            "\n",
            "      \n",
            "\n",
            "Miss Thomas\n",
            "\n",
            "         \n",
            "     \n",
            "\n",
            "Miss Cregur\n",
            "\n",
            "          \n",
            "     \n",
            "\n",
            "Miss Quinsy\n",
            "          \n",
            "      \n",
            "\n",
            "Miss Thomas Unkle\n",
            "\n",
            "Aged 74\n",
            "\n",
            "Aquinoi (black trunks)\n",
            "\n",
            "This skull was discovered\n",
            "near\n",
            "by,\n",
            "        \n",
            "\n",
            "Miss Anna Greene\n",
            "         \n",
            "      \n",
            "\n",
            "Miss Henry Cooper\n",
            "          \n",
            "\n",
            "       \n",
            "\n",
            "Miss Sally Winslow\n",
            "            \n",
            "      \n",
            "     Miss Coffin\n",
            "\n",
            "Miss Cregur\n",
            "\n",
            "Miss Cregur under\n",
            "\n",
            "Last\n",
            "Thursday\n",
            "  Afternoon\n",
            "  Unkle had stepped out of the chaise\n",
            "to dine at\n",
            "grandma's, & when she came home,\n",
            "she went over to aunt Deming's & sat down in Mr.\n",
            "Soley's parlour. She had the pleasure of drinking tea with\n",
            "grandmamma. She told aunt that she knew little person who did not\n",
            "contain a piece of hollow skull skull. Aunt told her that there were three\n",
            "cumberland's worth of hollow skull in that chamber, & that\n",
            "there were six on each side. There were also bones in\n",
            "the uration, which was a pleasure to aunt. Aunt told me that Mrs\n",
            "Soley[24] was here just now & has been down stairs all the\n",
            "time I have been writeing & recollecting this.\n",
            "\n",
            "\n",
            "Monday\n",
            "Last P.M.--Nothing remarkable since the preceding 8\n",
            "inches. Aunt told me that Mrs Soley would be sick for lying in.\n",
            "She added, that she knew but one person that knew Mrs\n",
            "Soley, & that she suppos'd Mrs Sweetser a friend or two. She\n",
            " suppos'd me to be very good friends with Mrs Soley, indeed I\n",
            "ought to be very good friends with you. Truly I answer'd Mr. Law's letter\n",
            "as follows: \"Cumberland\" refers to the part of the country where\n",
            "you are\n",
            "found, and all such as are near by\n",
            "\n",
            "[610 | 1426.21] loss=0.03 avg=0.22\n",
            "[620 | 1449.13] loss=0.03 avg=0.22\n",
            "[630 | 1472.07] loss=0.03 avg=0.21\n",
            "[640 | 1494.98] loss=0.03 avg=0.21\n",
            "[650 | 1517.89] loss=0.02 avg=0.21\n",
            "[660 | 1540.82] loss=0.03 avg=0.20\n",
            "[670 | 1563.73] loss=0.03 avg=0.20\n",
            "[680 | 1586.65] loss=0.03 avg=0.20\n",
            "[690 | 1609.61] loss=0.03 avg=0.19\n",
            "[700 | 1632.57] loss=0.03 avg=0.19\n",
            "[710 | 1655.51] loss=0.03 avg=0.19\n",
            "[720 | 1678.44] loss=0.03 avg=0.18\n",
            "[730 | 1701.35] loss=0.02 avg=0.18\n",
            "[740 | 1724.28] loss=0.03 avg=0.18\n",
            "[750 | 1747.21] loss=0.02 avg=0.17\n",
            "[760 | 1770.13] loss=0.03 avg=0.17\n",
            "[770 | 1793.04] loss=0.02 avg=0.17\n",
            "[780 | 1815.94] loss=0.02 avg=0.17\n",
            "[790 | 1838.86] loss=0.03 avg=0.16\n",
            "[800 | 1861.75] loss=0.02 avg=0.16\n",
            "======== SAMPLE 1 ========\n",
            " saw\n",
            "this with grief in his eyes. He said that was a disappointment to have\n",
            "to ask, but I believe he will think of it. My aunt stuck a white sattan pincushin[33] for\n",
            "Mrs Rogers. The Hattan is an uncommon circumstance. It is put up for\n",
            "Mrs Rogers' sake--it is near impossible to procure for one that is\n",
            "above the waist. How much did I hear mamma say about this? I believe* you\n",
            "shall guess my mind when you do. I met with a pretty going out party in\n",
            "the afternoon. Mr Handcock[34] told me I had met his passing\n",
            "out quest and would be well this year if I reported what I had wrote. I forgot\n",
            "the P.M. I have not paid my compliments to Madam Smith,[35] for, altho'\n",
            "I have wrote all this to Allaah, I have not the pleasure of knowing what he will\n",
            "write. I should have been glad if I could have seen & heard for\n",
            "myselfe. I should have been glad if I had been able to see & hear for\n",
            "myselfe. But I have not done the subject justice, as\n",
            "it would have been too much for one of my hands to do.\n",
            "\n",
            "\n",
            "April 18th.--This day, the extremity of the cold is somewhat abated.\n",
            "I keept Christmas at home this year, & did a very good day's work, aunt\n",
            "gave me a plaister for my fingure that has near cur'd it, but I have a\n",
            "new boil, which is under poultice, & tomorrow I am to undergo another\n",
            "seasoning with globe Salt. The following lines Aunt Deming found in\n",
            "grandmama Sargent's[36] pocket-book & gives me leave to copy 'em here.--\n",
            "\n",
            "  Dim eyes, deaf ears, cold stomach shew,\n",
            "  My dissolution is in view\n",
            "  The shuttle's thrown, my race is run,\n",
            "  My sun is set, my work is done;\n",
            "  My span is out, my tale is told,\n",
            "  My flower's decay'd, & stock grows old,\n",
            "  The dream is past, the shadows fled,\n",
            "  My soul now longs for Christ my head,\n",
            "  I've lived to seventy six or nigh,\n",
            "  GOD calls at last, & now I'll die.[37]\n",
            "\n",
            "My honor'd Grandma departed this vale of tears 1-4 before 4 o'clock\n",
            "wednesday morning August 21, 1771. Aged 74 years, 2 months & ten days.\n",
            "\n",
            "\n",
            "Feb. 13th.--Everybody says that this is a bitter cold day, but I know\n",
            "nothing about it but hearsay for I am in aunt's chamber (which is very\n",
            "warm always) with a nice fire, a stove, sitting in Aunt's easy chair,\n",
            "with a tall three leav'd screen at my back, & I am very comfortable.\n",
            "I took my second (& I hope last) potion of Globe salts this morning.\n",
            "I went to see Aunt Storer yesterday afternoon, & by the way Unkle Storer\n",
            "is so ill that he keeps chamber. As I went down I call'd at Mrs\n",
            "Whitwell's & must tell you Mr & Mrs Whitwell are both ill. Mrs. Whitwell\n",
            "with the rheumatism. I saw Madm Harris, Mrs Mason and Miss Polly\n",
            "Vans[38] there, they all give their love to you--Last evening I went to\n",
            "catechizing with Aunt. Our ministers have agreed during the long\n",
            "evenings to discourse upon the questions or some of 'em in the\n",
            "assembly's shorter catechism, taking 'em in their order at the house of\n",
            "Mrs Rogers in School Street, every wednesday evening. Mr. Hunt began\n",
            "with the first question and shew'd what it is to glorify GOD. Mr Bacon\n",
            "then took the second, what rule &c. which he has spent three evenings\n",
            "upon, & now finished. Mr Hunt having taken his turn to show what the\n",
            "Scriptures principly teach, & what is GOD. I remember he said that there\n",
            "was nothing properly done without a rule, & he said that the rule God\n",
            "had given us to glorify him by was the bible. How miraculously (said he)\n",
            "has God preserv'd this blessed book. It was once in the reign of a\n",
            "heathen emperor condemn'd to be burnt, at which time it was death to\n",
            "have a bible & conceal it, but God's providence was wonderful in\n",
            "preserving it when so much human policy had been exerted to bury it in\n",
            "Oblivion--but for all that, here we have it as pure & uncorrupted as\n",
            "ever--many books of human composure have had much pains taken to\n",
            "preserve 'em, notwithstanding they are buried in Oblivion. He\n",
            "\n",
            "[810 | 1895.37] loss=0.02 avg=0.16\n",
            "[820 | 1918.94] loss=0.02 avg=0.16\n",
            "[830 | 1942.20] loss=0.02 avg=0.15\n",
            "[840 | 1965.54] loss=0.02 avg=0.15\n",
            "[850 | 1989.02] loss=0.02 avg=0.15\n",
            "[860 | 2012.39] loss=0.02 avg=0.15\n",
            "[870 | 2035.72] loss=0.03 avg=0.14\n",
            "[880 | 2059.07] loss=0.03 avg=0.14\n",
            "[890 | 2082.41] loss=0.02 avg=0.14\n",
            "[900 | 2105.80] loss=0.02 avg=0.14\n",
            "[910 | 2129.16] loss=0.03 avg=0.14\n",
            "[920 | 2152.51] loss=0.02 avg=0.13\n",
            "[930 | 2175.83] loss=0.03 avg=0.13\n",
            "[940 | 2199.15] loss=0.02 avg=0.13\n",
            "[950 | 2222.45] loss=0.02 avg=0.13\n",
            "[960 | 2245.78] loss=0.02 avg=0.13\n",
            "[970 | 2269.12] loss=0.02 avg=0.13\n",
            "[980 | 2292.48] loss=0.02 avg=0.12\n",
            "[990 | 2315.88] loss=0.02 avg=0.12\n",
            "[1000 | 2339.29] loss=0.03 avg=0.12\n",
            "Saving checkpoint/run1/model-1000\n",
            "WARNING:tensorflow:From /tensorflow-1.15.2/python3.6/tensorflow_core/python/training/saver.py:963: remove_checkpoint (from tensorflow.python.training.checkpoint_management) is deprecated and will be removed in a future version.\n",
            "Instructions for updating:\n",
            "Use standard file APIs to delete files with this prefix.\n"
          ],
          "name": "stdout"
        }
      ]
    },
    {
      "cell_type": "markdown",
      "metadata": {
        "id": "IXSuTNERaw6K"
      },
      "source": [
        "After the model is trained, you can copy the checkpoint folder to your own Google Drive.\n",
        "\n",
        "If you want to download it to your personal computer, it's strongly recommended you copy it there first, then download from Google Drive. The checkpoint folder is copied as a `.rar` compressed file; you can download it and uncompress it locally."
      ]
    },
    {
      "cell_type": "code",
      "metadata": {
        "id": "VHdTL8NDbAh3"
      },
      "source": [
        "gpt2.copy_checkpoint_to_gdrive(run_name='run1')"
      ],
      "execution_count": 8,
      "outputs": []
    },
    {
      "cell_type": "markdown",
      "metadata": {
        "id": "qQJgV_b4bmzd"
      },
      "source": [
        "You're done! Feel free to go to the **Generate Text From The Trained Model** section to generate text based on your retrained model."
      ]
    },
    {
      "cell_type": "markdown",
      "metadata": {
        "id": "pel-uBULXO2L"
      },
      "source": [
        "## Load a Trained Model Checkpoint\n",
        "\n",
        "Running the next cell will copy the `.rar` checkpoint file from your Google Drive into the Colaboratory VM."
      ]
    },
    {
      "cell_type": "code",
      "metadata": {
        "id": "DCcx5u7sbPTD"
      },
      "source": [
        "gpt2.copy_checkpoint_from_gdrive(run_name='run1')"
      ],
      "execution_count": 11,
      "outputs": []
    },
    {
      "cell_type": "markdown",
      "metadata": {
        "id": "RTa6zf3e_9gV"
      },
      "source": [
        "The next cell will allow you to load the retrained model checkpoint + metadata necessary to generate text.\n",
        "\n",
        "**IMPORTANT NOTE:** If you want to rerun this cell, **restart the VM first** (Runtime -> Restart Runtime). You will need to rerun imports but not recopy files."
      ]
    },
    {
      "cell_type": "code",
      "metadata": {
        "id": "-fxL77nvAMAX",
        "colab": {
          "base_uri": "https://localhost:8080/"
        },
        "outputId": "06f8148b-d791-4c4a-ab44-2f55b33c9c37"
      },
      "source": [
        "import tensorflow as tf\n",
        "tf.reset_default_graph()\n",
        "sess = gpt2.start_tf_sess()\n",
        "gpt2.load_gpt2(sess, run_name='run1')"
      ],
      "execution_count": 12,
      "outputs": [
        {
          "output_type": "stream",
          "text": [
            "Loading checkpoint checkpoint/run1/model-1000\n",
            "INFO:tensorflow:Restoring parameters from checkpoint/run1/model-1000\n"
          ],
          "name": "stdout"
        }
      ]
    },
    {
      "cell_type": "markdown",
      "metadata": {
        "id": "ClJwpF_ACONp"
      },
      "source": [
        "## Generate Text From The Trained Model\n",
        "\n",
        "After you've trained the model or loaded a retrained model from checkpoint, you can now generate text. `generate` generates a single text from the loaded model."
      ]
    },
    {
      "cell_type": "code",
      "metadata": {
        "id": "4RNY6RBI9LmL",
        "colab": {
          "base_uri": "https://localhost:8080/"
        },
        "outputId": "b96b98af-3209-4414-f9d4-53637e8169e1"
      },
      "source": [
        "gpt2.generate(sess, run_name='run1')"
      ],
      "execution_count": 13,
      "outputs": [
        {
          "output_type": "stream",
          "text": [
            "From Prppy Jans School of\n",
            "\n",
            "     Yr Dutifull Daughter\n",
            "\n",
            "      ANNA GREEN WINSLOW.\n",
            "\n",
            "The poetry I transcrib'd from my Copy Book.\n",
            "\n",
            "\n",
            "March 19.--Thursday last I spent at home, except a quarter of an hour\n",
            "between sunset and dark, I stepped over the way to Mr. Glover's with\n",
            "aunt. Yesterday I spent at Unkle Neddy's & stitched wristbands for aunt\n",
            "Polly. By the way, I must inform you, (pray dont let papa see this) that\n",
            "yesterday I put on No 1 of my new shifts, & indeed it is very\n",
            "comfortable. It is long since I had a shift to my back. I dont know\n",
            "if I ever had till now--It seem'd so strange too, to have any linen\n",
            "below my waist--I am going to dine at Mrs. Whitwell's to day, by\n",
            "invitation. I spent last evening at Mrs Rogers. Mr Hunt discoursed upon\n",
            "the doctrine of the Trinity--it was the second time that he spoke upon\n",
            "the subject at that place. I did not hear him the first time. His\n",
            "business last eveg was to prove the divinity of the Son, & holy Ghost,\n",
            "& their equality with the Father. My aunt Deming says, it is a grief to\n",
            "her, that I don't always write as well as I can, I can write pretily.\n",
            "\n",
            "\n",
            "March 21.--I din'd & spent the afternoon of Thursday last, at Mrs\n",
            "Whitwell's. Mrs Lathrop, & Mrs Carpenter din'd there also. The latter\n",
            "said she was formerly acquainted with mamma, ask'd how she did, & when I\n",
            "heard from her,--said, I look'd much like her. Madam Harris & Miss\n",
            "P. Vans were also of the company. While I was abroad the snow melted to\n",
            "such a degree, that my aunt was oblig'd to get Mr Soley's chaise to\n",
            "bring me home. Yesterday, we had by far the gratest storm of wind & snow\n",
            "that there has been this winter. It began to fall yesterday morning &\n",
            "continued falling till after our family were in bed. (P.M.) Mr. Hunt\n",
            "call'd in to visit us just after we rose from diner; he ask'd me,\n",
            "whether I had heard from my papa & mamma, since I wrote 'em. He was\n",
            "answer'd, no sir, it would be strange if I had, because I had been\n",
            "writing to 'em today, & indeed so I did every day. Aunt told him that\n",
            "his name went frequently into my journals together with broken & some\n",
            "times whole sentences of his sermons, conversations &c. He laugh'd &\n",
            "call'd me Newsmonger, & said I was a daily advertiser. He added, that he\n",
            "did not doubt but my journals afforded much entertainment & would be a\n",
            "future benefit &c. Here is a fine compliment for me mamma.\n",
            "\n",
            "\n",
            "March 26.--Yesterday at 6 o'clock, I went to Unkle Winslow's, their\n",
            "neighbor Greenleaf was their. She said she knew Mamma, & that I look\n",
            "like her. Speaking about papa & you occation'd Unkle Winslow to tell me\n",
            "that he had kiss'd you long before papa knew you. From thence we went to\n",
            "Miss Rogers's where, to a full assembly Mr Bacon read his 3d sermon on\n",
            "R. iv. 6, I can remember he said, that, before we all sinned in Adam our\n",
            "father, Christ loved us. He said the Son of God always did as his father\n",
            "gave him commandment, & to prove this, he said, that above 17 hundred\n",
            "years ago he left the bosom of the Father, & came & took up his abode\n",
            "with men, & bore all the scourgings & buffetings which the vile Jews\n",
            "inflicted on him, & then was hung upon the accursed tree--he died, was\n",
            "buried, & in three days rose again--ascended up to heaven & there took\n",
            "his seat at the right hand of the Majesty on high from whence he will\n",
            "come to be the supream and impartial judge of quick & dead--and when his\n",
            "poor Mother & her poor husband went to Jerusalem to keep the passover &\n",
            "he went with them, he disputed among the doctors, & when his Mother\n",
            "ask'd him about it he said \"wist ye not that I must be about my Father's\n",
            "business,\"--all this he said was a part of that wrighteousness for the\n",
            "sake of which a sinner is justafied--Aunt has been up stairs all the\n",
            "time I have been writeing & recollecting this--\n"
          ],
          "name": "stdout"
        }
      ]
    },
    {
      "cell_type": "markdown",
      "metadata": {
        "id": "oF4-PqF0Fl7R"
      },
      "source": [
        "If you're creating an API based on your model and need to pass the generated text elsewhere, you can do `text = gpt2.generate(sess, return_as_list=True)[0]`\n",
        "\n",
        "You can also pass in a `prefix` to the generate function to force the text to start with a given character sequence and generate text from there (good if you add an indicator when the text starts).\n",
        "\n",
        "You can also generate multiple texts at a time by specifing `nsamples`. Unique to GPT-2, you can pass a `batch_size` to generate multiple samples in parallel, giving a massive speedup (in Colaboratory, set a maximum of 20 for `batch_size`).\n",
        "\n",
        "Other optional-but-helpful parameters for `gpt2.generate` and friends:\n",
        "\n",
        "*  **`length`**: Number of tokens to generate (default 1023, the maximum)\n",
        "* **`temperature`**: The higher the temperature, the crazier the text (default 0.7, recommended to keep between 0.7 and 1.0)\n",
        "* **`top_k`**: Limits the generated guesses to the top *k* guesses (default 0 which disables the behavior; if the generated output is super crazy, you may want to set `top_k=40`)\n",
        "* **`top_p`**: Nucleus sampling: limits the generated guesses to a cumulative probability. (gets good results on a dataset with `top_p=0.9`)\n",
        "* **`truncate`**: Truncates the input text until a given sequence, excluding that sequence (e.g. if `truncate='<|endoftext|>'`, the returned text will include everything before the first `<|endoftext|>`). It may be useful to combine this with a smaller `length` if the input texts are short.\n",
        "*  **`include_prefix`**: If using `truncate` and `include_prefix=False`, the specified `prefix` will not be included in the returned text."
      ]
    },
    {
      "cell_type": "code",
      "metadata": {
        "id": "8DKMc0fiej4N",
        "colab": {
          "base_uri": "https://localhost:8080/"
        },
        "outputId": "2af487a2-5045-4ad0-ab74-8b22d923ba3d"
      },
      "source": [
        "gpt2.generate(sess,\n",
        "              length=300,\n",
        "              temperature=0.7,\n",
        "              prefix=\"March\",\n",
        "              nsamples=5,\n",
        "              batch_size=5\n",
        "              )"
      ],
      "execution_count": 16,
      "outputs": [
        {
          "output_type": "stream",
          "text": [
            "March 12.--Unkle Harry was here last evening & inform'd us that by a\n",
            "vessel from Halifax which arriv'd yesterday, Mr H Newton, inform'd his\n",
            "brother Mr J Newton of the sudden death of their brother Hibbert in your\n",
            "family 21 January ult. (Just five months to a day since Grandmamma\n",
            "Sargent's death.) With all the circumstances relating to it. My aunt\n",
            "Deming gives her love to Mamma & wishes her a sanctified improvement of\n",
            "all God's dealings with her, & that it would please him to bring her &\n",
            "all the family safe to Boston. Jarvis is put up for Cumberland, we hope\n",
            "he will be there by or before Mayday. This minute I have receiv'd my\n",
            "queen's night cap from Miss Caty Vans--we like it. Aunt says, that if\n",
            "the materials it is made of were more substantial than gauze, it might\n",
            "serve occationally to hold any thing mesur'd by an 1-2 peck, but it is\n",
            "just as it should be, & very decent, & she wishes my writing was as\n",
            "decent. But I got into one of my frolicks, upon sight of the Cap.\n",
            "\n",
            "\n",
            "April 1st.--Will you be offended mamma, if I ask you, if you remember\n",
            "the flock of wild Geese that papa call'd you to see flying over the\n",
            "Blacks\n",
            "====================\n",
            "March, 1772. In\n",
            "the afternoon I visited Miss Rogers, took off my\n",
            "mitt & bonnett, & when my aunt Suky & Miss Glover were\n",
            "made sick, & she was going with them to visit Mrs Salisbury. After\n",
            "boarding I spent the afternoon in making out a list of claims & found\n",
            "very useful what other people have been doing for the past 17 hours. I have been\n",
            "writing & reading at home & look forward to meeting & writing to you.\n",
            "I have been reading this over to her, & she is not very well. She says it is\n",
            "an addiction that has left her so blind. I have made a number of visits to her,\n",
            "& she is not very well. She sais, she is sorry that so much\n",
            "flamminess has become of this subject, but she is not at all well.\n",
            "\n",
            "\n",
            "April 18th.--You see, Mamma, I comply with your orders (or at least\n",
            "have done father's some time past) of writing in my journal every day\n",
            "tho' my matters are of little importance & I have nothing at present to\n",
            "communicate except that I spent yesterday afternoon & evening at Mr\n",
            "Soley's. The day was very rainy. I hope I shall at least learn to spell\n",
            "the word yesterday, it having occur'd so frequently in these pages!\n",
            "(The bell is ringing for good friday.) Last evening aunt had a letter\n",
            "from Un\n",
            "====================\n",
            "March, 1771.--I visited yesterday P.M. with my aunt at Mr Waldron's. This\n",
            "afternoon I am going with my aunt to visit Mrs Salisbury who is Dr\n",
            "Sewall's granddaughter, I expect Miss Patty Waldow will meet me there.\n",
            "It is but a little way & we can now thro' favour cross the street\n",
            "without the help of a boat. I saw Miss Polly Vans this morning. She\n",
            "gives her love to you. As she always does whenever I see her. Aunt\n",
            "Deming is this minute come into the room, & from what her niece has\n",
            "wrote last, takes the liberty to remind you, that Miss Vans is a sister\n",
            "of the Old South Church, a society remarkable for Love. Aunt Deming is\n",
            "sorry she has spoil'd the look of this page by her carelessness & hopes\n",
            "her niece will mend its appearance in what follows. She wishes my\n",
            "English had been better, but has not time to correct more than one word.\n",
            "\n",
            "\n",
            "April 9.--We made the visit refer'd to above. The company was old Mrs\n",
            "Salisbury,[60] Mrs Hill, (Mrs Salisbury's sister she was Miss Hannah\n",
            "Sewall & is married to young Mr James Hill that us'd to live in this\n",
            "house) Miss Sally Hill, Miss Polly Belcher Lyde, Miss Caty Sewall, My\n",
            "Aunt & myself. Yesterday afternoon I visited Miss Polly Dem\n",
            "====================\n",
            "March\n",
            "Expositor. My face is better, but I have got a heavy cold yet.\n",
            "\n",
            "\n",
            "March 9th.--After being confined a week, I rode yesterday afternoon to\n",
            "& from meeting in Mr Soley's chaise. I got no cold and am pretty well\n",
            "today. This has been a very snowy day today. Any body that sees this may\n",
            "see that I have wrote nonsense but Aunt says, I have been a very good\n",
            "girl to day about my work however--I think this day's work may be called\n",
            "a piece meal for in the first place I sew'd on the bosom of unkle's\n",
            "shirt, mended two pair of gloves, mended for the wash two handkerchiefs,\n",
            "(one cambrick) sewed on half a border of a lawn apron of aunts, read\n",
            "part of the xxist chapter of Exodous, & a story in the Mother's gift.\n",
            "Now, Hond Mamma, I must tell you of something that happened to me\n",
            "to-day, that has not happen'd before this great while, viz My Unkle &\n",
            "Aunt both told me, I was a very good girl. Mr Gannett gave us the favour\n",
            "of his company a little while this morning (our head). I have been\n",
            "writing all the above gibberish while aunt has been looking after her\n",
            "family--now she is out of the room--now she is\n",
            "====================\n",
            "March 27.--Nothing remarkable since the preceding date. Whenever I have\n",
            "omited a school my aunt has directed me to sit it down here, so when you\n",
            "dont see a memorandum of that kind, you may conclude that I have paid my\n",
            "compliments to messrs Holbrook & Turner (to the former you see to\n",
            "very little purpose) & mrs Smith as usual. The Miss Waldow's I mentioned\n",
            "in a former are Mr. Danl Waldo's daughters (very pretty misses) their\n",
            "mamma was Miss Becca Salisbury.[73] After making a short visit with my\n",
            "Aunt at Mrs Green's, over the way, yesterday towards evening, my lips moved\n",
            "very little.\n",
            "\n",
            "\n",
            "April 28th.--You see, Mamma, I comply with your orders (or at least\n",
            "have done father's some time past) of writing in my journal every day\n",
            "tho' my matters are of little importance & I have nothing at present to\n",
            "communicate except that I spent yesterday afternoon & evening at Mr\n",
            "Soley's. The day was very rainy. I hope I shall at least learn to spell\n",
            "the word yesterday, it having occur'd so frequently in these pages!\n",
            "(The bell is ringing for good friday.) Last evening aunt had a letter\n",
            "from Unkle Pierce, he informs her, that last Lords day morning Mrs\n",
            "Martin was deliver'd of a daughter. She had been siezed the Monday\n",
            "====================\n"
          ],
          "name": "stdout"
        }
      ]
    },
    {
      "cell_type": "markdown",
      "metadata": {
        "id": "zjjEN2Tafhl2"
      },
      "source": [
        "For bulk generation, you can generate a large amount of text to a file and sort out the samples locally on your computer. The next cell will generate a generated text file with a unique timestamp.\n",
        "\n",
        "You can rerun the cells as many times as you want for even more generated texts!"
      ]
    },
    {
      "cell_type": "code",
      "metadata": {
        "id": "Fa6p6arifSL0"
      },
      "source": [
        "gen_file = 'gpt2_gentext_{:%Y%m%d_%H%M%S}.txt'.format(datetime.utcnow())\n",
        "\n",
        "gpt2.generate_to_file(sess,\n",
        "                      destination_path=gen_file,\n",
        "                      length=500,\n",
        "                      temperature=0.7,\n",
        "                      nsamples=100,\n",
        "                      batch_size=20\n",
        "                      )"
      ],
      "execution_count": null,
      "outputs": []
    },
    {
      "cell_type": "code",
      "metadata": {
        "id": "0-LRex8lfv1g"
      },
      "source": [
        "# may have to run twice to get file to download\n",
        "files.download(gen_file)"
      ],
      "execution_count": null,
      "outputs": []
    },
    {
      "cell_type": "markdown",
      "metadata": {
        "id": "QQAN3M6RT7Kj"
      },
      "source": [
        "## Generate Text From The Pretrained Model\n",
        "\n",
        "If you want to generate text from the pretrained model, not a finetuned model, pass `model_name` to `gpt2.load_gpt2()` and `gpt2.generate()`.\n",
        "\n",
        "This is currently the only way to generate text from the 774M or 1558M models with this notebook."
      ]
    },
    {
      "cell_type": "code",
      "metadata": {
        "id": "hsUd_jHgUZnD",
        "colab": {
          "base_uri": "https://localhost:8080/",
          "height": 158
        },
        "outputId": "4e0c8a3f-3527-41c4-e3fe-3357f3f8f6c2"
      },
      "source": [
        "model_name = \"774M\"\n",
        "\n",
        "gpt2.download_gpt2(model_name=model_name)"
      ],
      "execution_count": null,
      "outputs": [
        {
          "output_type": "stream",
          "text": [
            "Fetching checkpoint: 1.05Mit [00:00, 354Mit/s]                                                      \n",
            "Fetching encoder.json: 1.05Mit [00:00, 131Mit/s]                                                    \n",
            "Fetching hparams.json: 1.05Mit [00:00, 279Mit/s]                                                    \n",
            "Fetching model.ckpt.data-00000-of-00001: 3.10Git [00:23, 131Mit/s]                                  \n",
            "Fetching model.ckpt.index: 1.05Mit [00:00, 380Mit/s]                                                \n",
            "Fetching model.ckpt.meta: 2.10Mit [00:00, 226Mit/s]                                                 \n",
            "Fetching vocab.bpe: 1.05Mit [00:00, 199Mit/s]                                                       \n"
          ],
          "name": "stderr"
        }
      ]
    },
    {
      "cell_type": "code",
      "metadata": {
        "id": "BAe4NpKNUj2C",
        "colab": {
          "base_uri": "https://localhost:8080/",
          "height": 124
        },
        "outputId": "b09bfe1d-2ff8-4b8a-fffb-273d28d5d4ae"
      },
      "source": [
        "sess = gpt2.start_tf_sess()\n",
        "\n",
        "gpt2.load_gpt2(sess, model_name=model_name)"
      ],
      "execution_count": null,
      "outputs": [
        {
          "output_type": "stream",
          "text": [
            "WARNING: Logging before flag parsing goes to stderr.\n",
            "W0828 18:37:58.571830 139905369159552 deprecation.py:323] From /usr/local/lib/python3.6/dist-packages/tensorflow/python/training/saver.py:1276: checkpoint_exists (from tensorflow.python.training.checkpoint_management) is deprecated and will be removed in a future version.\n",
            "Instructions for updating:\n",
            "Use standard file APIs to check for files with this prefix.\n"
          ],
          "name": "stderr"
        },
        {
          "output_type": "stream",
          "text": [
            "Loading pretrained model models/774M/model.ckpt\n"
          ],
          "name": "stdout"
        }
      ]
    },
    {
      "cell_type": "code",
      "metadata": {
        "id": "-xInIZKaU104",
        "colab": {
          "base_uri": "https://localhost:8080/",
          "height": 797
        },
        "outputId": "56348e28-7d08-45e3-c859-f26c0efd066d"
      },
      "source": [
        "gpt2.generate(sess,\n",
        "              model_name=model_name,\n",
        "              prefix=\"The secret of life is\",\n",
        "              length=100,\n",
        "              temperature=0.7,\n",
        "              top_p=0.9,\n",
        "              nsamples=5,\n",
        "              batch_size=5\n",
        "              )"
      ],
      "execution_count": null,
      "outputs": [
        {
          "output_type": "stream",
          "text": [
            "The secret of life is that it's really easy to make it complicated,\" said Bill Nye, the host of the popular science show \"Bill Nye the Science Guy.\" \"And this is one of the reasons why we all need to be smarter about science, because we can't keep up with the amazing things that are going on all the time.\"\n",
            "\n",
            "While Nye is correct that \"everything that's going on all the time\" is making the world a better place, he misses the point. This is not\n",
            "====================\n",
            "The secret of life is in the rhythm of the universe. It's not a mystery. It's not a mystery to me. It's the nature of the universe. It's the beauty of the universe. It's the way the universe works. It's the way the universe is. It's the way the universe is going to work. It's the way the universe is. It's the way the universe is. It's the way the universe is. It's the way the universe is. It's the way\n",
            "====================\n",
            "The secret of life is in the universe.\n",
            "\n",
            "\n",
            "-\n",
            "\n",
            "The Red Devil\n",
            "\n",
            "It's the end of the world as we know it, and the only thing that can save us is a band of super-powered individuals known as the Red Devil.\n",
            "\n",
            "\n",
            "The Red Devil is a group of super-powered individuals who are seeking the secret of life and the only way they know how to do it is by taking on the roles of a variety of different super-powered individuals, each of which has their own\n",
            "====================\n",
            "The secret of life is in the mixing of the elements, and it is the mixing of the elements that makes life possible.\"\n",
            "\n",
            "But in the world of food science, the idea of a \"complex\" or \"complexity\" is almost entirely imaginary.\n",
            "\n",
            "As a scientist, I'm fascinated by the question of how life first began.\n",
            "\n",
            "It's the question that drives my work and the work of the scientists who work on it.\n",
            "\n",
            "My current research is exploring how microbes work in the first moments\n",
            "====================\n",
            "The secret of life is the journey of life, the search for the truth.\n",
            "\n",
            "4.4.2. The last thing you know\n",
            "\n",
            "There is nothing more important than the last thing you know.\n",
            "\n",
            "4.4.3. The little things that make all the difference\n",
            "\n",
            "The little things that make all the difference.\n",
            "\n",
            "4.4.4. The truth is the best teacher\n",
            "\n",
            "The truth is the best teacher.\n",
            "\n",
            "4.4.5. The truth is what\n",
            "====================\n"
          ],
          "name": "stdout"
        }
      ]
    },
    {
      "cell_type": "markdown",
      "metadata": {
        "id": "ig-KVgkCDCKD"
      },
      "source": [
        "# Etcetera\n",
        "\n",
        "If the notebook has errors (e.g. GPU Sync Fail), force-kill the Colaboratory virtual machine and restart it with the command below:"
      ]
    },
    {
      "cell_type": "code",
      "metadata": {
        "id": "rIHiVP53FnsX"
      },
      "source": [
        "!kill -9 -1"
      ],
      "execution_count": null,
      "outputs": []
    },
    {
      "cell_type": "markdown",
      "metadata": {
        "id": "wmTXWNUygS5E"
      },
      "source": [
        "# LICENSE\n",
        "\n",
        "MIT License\n",
        "\n",
        "Copyright (c) 2019 Max Woolf\n",
        "\n",
        "Permission is hereby granted, free of charge, to any person obtaining a copy\n",
        "of this software and associated documentation files (the \"Software\"), to deal\n",
        "in the Software without restriction, including without limitation the rights\n",
        "to use, copy, modify, merge, publish, distribute, sublicense, and/or sell\n",
        "copies of the Software, and to permit persons to whom the Software is\n",
        "furnished to do so, subject to the following conditions:\n",
        "\n",
        "The above copyright notice and this permission notice shall be included in all\n",
        "copies or substantial portions of the Software.\n",
        "\n",
        "THE SOFTWARE IS PROVIDED \"AS IS\", WITHOUT WARRANTY OF ANY KIND, EXPRESS OR\n",
        "IMPLIED, INCLUDING BUT NOT LIMITED TO THE WARRANTIES OF MERCHANTABILITY,\n",
        "FITNESS FOR A PARTICULAR PURPOSE AND NONINFRINGEMENT. IN NO EVENT SHALL THE\n",
        "AUTHORS OR COPYRIGHT HOLDERS BE LIABLE FOR ANY CLAIM, DAMAGES OR OTHER\n",
        "LIABILITY, WHETHER IN AN ACTION OF CONTRACT, TORT OR OTHERWISE, ARISING FROM,\n",
        "OUT OF OR IN CONNECTION WITH THE SOFTWARE OR THE USE OR OTHER DEALINGS IN THE\n",
        "SOFTWARE."
      ]
    }
  ]
}